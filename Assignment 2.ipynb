{
 "cells": [
  {
   "cell_type": "markdown",
   "id": "f96f0482",
   "metadata": {},
   "source": [
    "Importing Libraries"
   ]
  },
  {
   "cell_type": "code",
   "execution_count": 1,
   "id": "6b4ef0a4",
   "metadata": {},
   "outputs": [],
   "source": [
    "import copy\n",
    "import matplotlib.pyplot as plt\n",
    "import numpy as np\n",
    "import pandas as pd\n",
    "import seaborn as sns\n",
    "import scipy\n",
    "\n",
    "from sklearn.linear_model import LinearRegression\n",
    "from sklearn.model_selection import train_test_split\n",
    "from sklearn.preprocessing import StandardScaler, RobustScaler, Normalizer\n",
    "from sklearn import tree\n",
    "from sklearn.metrics import accuracy_score, confusion_matrix\n",
    "from sklearn.cluster import KMeans\n",
    "\n",
    "%matplotlib inline"
   ]
  },
  {
   "cell_type": "markdown",
   "id": "71be34f7",
   "metadata": {},
   "source": [
    "Loading the data"
   ]
  },
  {
   "cell_type": "code",
   "execution_count": 2,
   "id": "90df1731",
   "metadata": {},
   "outputs": [],
   "source": [
    "df = pd.read_csv('Australian_Road_Deaths.csv')"
   ]
  },
  {
   "cell_type": "markdown",
   "id": "71653890",
   "metadata": {},
   "source": [
    "# Part A"
   ]
  },
  {
   "cell_type": "markdown",
   "id": "dc9e5827",
   "metadata": {},
   "source": [
    "## Q1) How many rows and columns exist in this dataset?"
   ]
  },
  {
   "cell_type": "code",
   "execution_count": 3,
   "id": "6a933b20",
   "metadata": {},
   "outputs": [
    {
     "data": {
      "text/plain": [
       "(9140, 22)"
      ]
     },
     "execution_count": 3,
     "metadata": {},
     "output_type": "execute_result"
    }
   ],
   "source": [
    "df.shape"
   ]
  },
  {
   "cell_type": "markdown",
   "id": "e3be92c5",
   "metadata": {},
   "source": [
    "There are 9140 rows, and 22 columns in this data set."
   ]
  },
  {
   "cell_type": "markdown",
   "id": "f38acee2",
   "metadata": {},
   "source": [
    "## Q2) Count the number of unique values for National Remoteness Areas, SA4 Name 2016, National LGA Name 2017, and National Road Type in this dataset."
   ]
  },
  {
   "cell_type": "code",
   "execution_count": 4,
   "id": "13fa5367",
   "metadata": {},
   "outputs": [
    {
     "data": {
      "text/html": [
       "<div>\n",
       "<style scoped>\n",
       "    .dataframe tbody tr th:only-of-type {\n",
       "        vertical-align: middle;\n",
       "    }\n",
       "\n",
       "    .dataframe tbody tr th {\n",
       "        vertical-align: top;\n",
       "    }\n",
       "\n",
       "    .dataframe thead th {\n",
       "        text-align: right;\n",
       "    }\n",
       "</style>\n",
       "<table border=\"1\" class=\"dataframe\">\n",
       "  <thead>\n",
       "    <tr style=\"text-align: right;\">\n",
       "      <th></th>\n",
       "      <th>National Remoteness Areas</th>\n",
       "      <th>SA4 Name 2016</th>\n",
       "      <th>National LGA Name 2017</th>\n",
       "      <th>National Road Type</th>\n",
       "    </tr>\n",
       "  </thead>\n",
       "  <tbody>\n",
       "    <tr>\n",
       "      <th>count</th>\n",
       "      <td>6892</td>\n",
       "      <td>6906</td>\n",
       "      <td>6907</td>\n",
       "      <td>6891</td>\n",
       "    </tr>\n",
       "    <tr>\n",
       "      <th>unique</th>\n",
       "      <td>5</td>\n",
       "      <td>88</td>\n",
       "      <td>500</td>\n",
       "      <td>9</td>\n",
       "    </tr>\n",
       "    <tr>\n",
       "      <th>top</th>\n",
       "      <td>Major Cities of Australia</td>\n",
       "      <td>Western Australia - Wheat Belt</td>\n",
       "      <td>Central Coast</td>\n",
       "      <td>National or State Highway</td>\n",
       "    </tr>\n",
       "    <tr>\n",
       "      <th>freq</th>\n",
       "      <td>2375</td>\n",
       "      <td>231</td>\n",
       "      <td>92</td>\n",
       "      <td>2024</td>\n",
       "    </tr>\n",
       "  </tbody>\n",
       "</table>\n",
       "</div>"
      ],
      "text/plain": [
       "        National Remoteness Areas                   SA4 Name 2016  \\\n",
       "count                        6892                            6906   \n",
       "unique                          5                              88   \n",
       "top     Major Cities of Australia  Western Australia - Wheat Belt   \n",
       "freq                         2375                             231   \n",
       "\n",
       "       National LGA Name 2017         National Road Type  \n",
       "count                    6907                       6891  \n",
       "unique                    500                          9  \n",
       "top             Central Coast  National or State Highway  \n",
       "freq                       92                       2024  "
      ]
     },
     "execution_count": 4,
     "metadata": {},
     "output_type": "execute_result"
    }
   ],
   "source": [
    "# Copy the original dataframe\n",
    "q2_df = copy.deepcopy(df)\n",
    "\n",
    "# Get the required column names in a single dataframe\n",
    "q2_df = df[[\"National Remoteness Areas\", \"SA4 Name 2016\", \"National LGA Name 2017\", \"National Road Type\"]]\n",
    "\n",
    "# Get a description of dataframe along with the unique values in it\n",
    "q2_df.describe()\n",
    "\n",
    "# uniqueValues.nunique()"
   ]
  },
  {
   "cell_type": "markdown",
   "id": "a5ccff4c",
   "metadata": {},
   "source": [
    "The number of unique values are,\n",
    "1. **National Remoteness Areas** : 5\n",
    "2. **SA4 Name 2016** : 88\n",
    "3. **National LGA Name 2017** : 900\n",
    "4. **National Road Type** : 9"
   ]
  },
  {
   "cell_type": "markdown",
   "id": "9bd8ccef",
   "metadata": {},
   "source": [
    "## Q3) Missing values and duplicates"
   ]
  },
  {
   "cell_type": "markdown",
   "id": "7b4abadf",
   "metadata": {},
   "source": [
    "### Q3-1) How many rows contain missing values (Unspecified or Undetermined or blank) in this dataset? "
   ]
  },
  {
   "cell_type": "code",
   "execution_count": 5,
   "id": "68fb9d4a",
   "metadata": {},
   "outputs": [
    {
     "name": "stdout",
     "output_type": "stream",
     "text": [
      "2287 rows contain unspecified, undetermined or blank values in this dataset.\n"
     ]
    }
   ],
   "source": [
    "#n_missing = sum([True for idx, row in df.iterrows() if any(row.isnull())])\n",
    "\n",
    "# Since finding null values is non-destructive, we do not need to make a new copy of dataframe\n",
    "q3_df = df.isnull().any(axis=1).sum()\n",
    "\n",
    "print(f'{q3_df} rows contain unspecified, undetermined or blank values in this dataset.')"
   ]
  },
  {
   "cell_type": "markdown",
   "id": "f1df8d8d",
   "metadata": {},
   "source": [
    "### Q3-2) List the months with no missing values in them."
   ]
  },
  {
   "cell_type": "code",
   "execution_count": 6,
   "id": "07ad0799",
   "metadata": {},
   "outputs": [],
   "source": [
    "# Create a deepcopy of original dataframe\n",
    "q3_2_df = copy.deepcopy(df)\n",
    "\n",
    "# Converting the YYYYMM column to yyyy-mm-dd format\n",
    "_temp = pd.to_datetime(q3_2_df['YYYYMM'].astype(str), format='%Y%m')\n",
    "q3_2_df.insert(3, 'Month', _temp.dt.month_name().str[:3])\n",
    "q3_2_df.insert(3, 'Year', _temp.dt.year);"
   ]
  },
  {
   "cell_type": "code",
   "execution_count": 7,
   "id": "a3594671",
   "metadata": {},
   "outputs": [],
   "source": [
    "# list of years\n",
    "yr_ = np.arange(2014, 2022, 1)\n",
    "\n",
    "# list of months\n",
    "months_ = ['Jan', 'Feb', 'Mar', 'Apr', 'May', 'Jun', 'Jul', 'Aug', 'Sep', 'Oct', 'Nov', 'Dec']\n",
    "\n",
    "is_not_null = []\n",
    "\n",
    "# iterating over months and years\n",
    "for i in yr_:\n",
    "    for j in months_:\n",
    "        df_ = q3_2_df[(q3_2_df['Year'] == i) & (q3_2_df['Month'] == j)]\n",
    "        is_not_null.append([i, j, df_.notnull().values.all()])"
   ]
  },
  {
   "cell_type": "code",
   "execution_count": 8,
   "id": "a64e9b5f",
   "metadata": {},
   "outputs": [
    {
     "data": {
      "text/html": [
       "<div>\n",
       "<style scoped>\n",
       "    .dataframe tbody tr th:only-of-type {\n",
       "        vertical-align: middle;\n",
       "    }\n",
       "\n",
       "    .dataframe tbody tr th {\n",
       "        vertical-align: top;\n",
       "    }\n",
       "\n",
       "    .dataframe thead th {\n",
       "        text-align: right;\n",
       "    }\n",
       "</style>\n",
       "<table border=\"1\" class=\"dataframe\">\n",
       "  <thead>\n",
       "    <tr style=\"text-align: right;\">\n",
       "      <th></th>\n",
       "      <th>Year</th>\n",
       "      <th>Month</th>\n",
       "      <th>No Null Value</th>\n",
       "    </tr>\n",
       "  </thead>\n",
       "  <tbody>\n",
       "    <tr>\n",
       "      <th>0</th>\n",
       "      <td>2018</td>\n",
       "      <td>Apr</td>\n",
       "      <td>True</td>\n",
       "    </tr>\n",
       "    <tr>\n",
       "      <th>1</th>\n",
       "      <td>2018</td>\n",
       "      <td>Nov</td>\n",
       "      <td>True</td>\n",
       "    </tr>\n",
       "    <tr>\n",
       "      <th>2</th>\n",
       "      <td>2019</td>\n",
       "      <td>Feb</td>\n",
       "      <td>True</td>\n",
       "    </tr>\n",
       "    <tr>\n",
       "      <th>3</th>\n",
       "      <td>2019</td>\n",
       "      <td>Jul</td>\n",
       "      <td>True</td>\n",
       "    </tr>\n",
       "    <tr>\n",
       "      <th>4</th>\n",
       "      <td>2019</td>\n",
       "      <td>Oct</td>\n",
       "      <td>True</td>\n",
       "    </tr>\n",
       "    <tr>\n",
       "      <th>5</th>\n",
       "      <td>2019</td>\n",
       "      <td>Nov</td>\n",
       "      <td>True</td>\n",
       "    </tr>\n",
       "    <tr>\n",
       "      <th>6</th>\n",
       "      <td>2021</td>\n",
       "      <td>Oct</td>\n",
       "      <td>True</td>\n",
       "    </tr>\n",
       "    <tr>\n",
       "      <th>7</th>\n",
       "      <td>2021</td>\n",
       "      <td>Nov</td>\n",
       "      <td>True</td>\n",
       "    </tr>\n",
       "    <tr>\n",
       "      <th>8</th>\n",
       "      <td>2021</td>\n",
       "      <td>Dec</td>\n",
       "      <td>True</td>\n",
       "    </tr>\n",
       "  </tbody>\n",
       "</table>\n",
       "</div>"
      ],
      "text/plain": [
       "   Year Month  No Null Value\n",
       "0  2018   Apr           True\n",
       "1  2018   Nov           True\n",
       "2  2019   Feb           True\n",
       "3  2019   Jul           True\n",
       "4  2019   Oct           True\n",
       "5  2019   Nov           True\n",
       "6  2021   Oct           True\n",
       "7  2021   Nov           True\n",
       "8  2021   Dec           True"
      ]
     },
     "execution_count": 8,
     "metadata": {},
     "output_type": "execute_result"
    }
   ],
   "source": [
    "no_null_month = pd.DataFrame(is_not_null, columns=['Year', 'Month', 'No Null Value'])\n",
    "\n",
    "no_null_month[no_null_month['No Null Value'] == True].reset_index(drop=True)"
   ]
  },
  {
   "cell_type": "markdown",
   "id": "48583ab5",
   "metadata": {},
   "source": [
    "The table above lists the months in various years that do not have any null value in them. Most months with no null values occured in **2019**. **October** and **November** are two months that do not have null values **twice** in this dataset."
   ]
  },
  {
   "cell_type": "markdown",
   "id": "db060acd",
   "metadata": {},
   "source": [
    "### Q3-3) Remove the records with missing values."
   ]
  },
  {
   "cell_type": "code",
   "execution_count": 9,
   "id": "9445166e",
   "metadata": {},
   "outputs": [],
   "source": [
    "q3_3_df = q3_2_df.dropna()"
   ]
  },
  {
   "cell_type": "markdown",
   "id": "c45076f3",
   "metadata": {},
   "source": [
    "### Q3-4) Remove duplicates as well after removing the missing values."
   ]
  },
  {
   "cell_type": "markdown",
   "id": "9e151941",
   "metadata": {},
   "source": [
    "Using the **q3_3_df** dataframe to remove the duplicates as it **already has missing values removed**."
   ]
  },
  {
   "cell_type": "code",
   "execution_count": 10,
   "id": "889c7d6e",
   "metadata": {},
   "outputs": [],
   "source": [
    "df_dropduplicates = q3_3_df.drop_duplicates()"
   ]
  },
  {
   "cell_type": "markdown",
   "id": "747ae191",
   "metadata": {},
   "source": [
    "## Q4) List the number of crashes in each month. In which two months are the number of crashes at their largest?"
   ]
  },
  {
   "cell_type": "code",
   "execution_count": 11,
   "id": "3961364e",
   "metadata": {},
   "outputs": [],
   "source": [
    "# Note: Use the dataset with missing values and duplicates removed from here onwards.\n",
    "\n",
    "# Get a fresh copy of original dataframe that has missing and duplicate values\n",
    "q4_df = copy.deepcopy(df)\n",
    "\n",
    "# Split the YYYYMM into year-month again\n",
    "_temp = pd.to_datetime(q4_df['YYYYMM'].astype(str), format='%Y%m')\n",
    "q4_df.insert(3, 'Month', _temp.dt.month_name().str[:3])\n",
    "q4_df.insert(3, 'Year', _temp.dt.year);"
   ]
  },
  {
   "cell_type": "code",
   "execution_count": 12,
   "id": "5f01621f",
   "metadata": {},
   "outputs": [
    {
     "data": {
      "image/png": "[encoded data removed]",
      "text/plain": [
       "<Figure size 1200x500 with 1 Axes>"
      ]
     },
     "metadata": {},
     "output_type": "display_data"
    }
   ],
   "source": [
    "f, ax = plt.subplots(1, 1, figsize=(12, 5))\n",
    "bar_plot = sns.countplot(data=q4_df, x='Month', ax=ax)\n",
    "bar_plot.bar_label(bar_plot.containers[0]);"
   ]
  },
  {
   "cell_type": "markdown",
   "id": "4b711916",
   "metadata": {},
   "source": [
    "As we can see that most accidents happened in the month of **March, 849**.\n",
    "\n",
    "After that, we have **August** at second place with **833** reported accidents.\n",
    "\n",
    "We can also see the **number of accidents in a listed form**, as shown below,"
   ]
  },
  {
   "cell_type": "code",
   "execution_count": 13,
   "id": "64463784",
   "metadata": {},
   "outputs": [
    {
     "data": {
      "text/plain": [
       "[('Jan', 808),\n",
       " ('Feb', 698),\n",
       " ('Mar', 849),\n",
       " ('Apr', 735),\n",
       " ('May', 776),\n",
       " ('Jun', 745),\n",
       " ('Jul', 798),\n",
       " ('Aug', 833),\n",
       " ('Sep', 749),\n",
       " ('Oct', 721),\n",
       " ('Nov', 702),\n",
       " ('Dec', 726)]"
      ]
     },
     "execution_count": 13,
     "metadata": {},
     "output_type": "execute_result"
    }
   ],
   "source": [
    "# for j in yr_:\n",
    "#     print(f'Year = {j}')\n",
    "#     print([(i, len(_temp['Month'][(_temp['Month'] == i) & (_temp['Year'] == j)])) for i in months_])\n",
    "\n",
    "[(i, len(q4_df['Month'][q4_df['Month'] == i])) for i in months_]"
   ]
  },
  {
   "cell_type": "markdown",
   "id": "f41b1df6",
   "metadata": {},
   "source": [
    "## Q5)  Investigating crashes over different months for specific road user"
   ]
  },
  {
   "cell_type": "markdown",
   "id": "a8f8cca9",
   "metadata": {},
   "source": [
    "### Q5-1) Compute the average number of crashes against Month for `car drivers`"
   ]
  },
  {
   "cell_type": "markdown",
   "id": "84ad14e7",
   "metadata": {},
   "source": [
    "#### Extract the year, month column separately\n",
    "\n",
    "The year and month column is already extracted with `q4_df`. I'll use a copy of that dataframe as it is the same as original dataframe but with added `Year`, `Month` column."
   ]
  },
  {
   "cell_type": "code",
   "execution_count": 14,
   "id": "26a61814",
   "metadata": {},
   "outputs": [],
   "source": [
    "# Make a new copy of `q4_df`\n",
    "q5_df = copy.deepcopy(q4_df)"
   ]
  },
  {
   "cell_type": "markdown",
   "id": "9bf0ebef",
   "metadata": {},
   "source": [
    "#### Compute the number of crashes by both `Year` and `Month` for `car drivers`."
   ]
  },
  {
   "cell_type": "code",
   "execution_count": 15,
   "id": "031b86a9",
   "metadata": {},
   "outputs": [],
   "source": [
    "# Get the required columns.\n",
    "# The `Road User` column is required to get the `Car passenger` category\n",
    "\n",
    "q5_1_df = q5_df[['Year', 'Month', 'Road User']]\n",
    "q5_1_df = q5_1_df[q5_1_df['Road User'] == 'Car passenger']"
   ]
  },
  {
   "cell_type": "code",
   "execution_count": 16,
   "id": "2e750ba1",
   "metadata": {},
   "outputs": [
    {
     "data": {
      "text/html": [
       "<div>\n",
       "<style scoped>\n",
       "    .dataframe tbody tr th:only-of-type {\n",
       "        vertical-align: middle;\n",
       "    }\n",
       "\n",
       "    .dataframe tbody tr th {\n",
       "        vertical-align: top;\n",
       "    }\n",
       "\n",
       "    .dataframe thead th {\n",
       "        text-align: right;\n",
       "    }\n",
       "</style>\n",
       "<table border=\"1\" class=\"dataframe\">\n",
       "  <thead>\n",
       "    <tr style=\"text-align: right;\">\n",
       "      <th>Year</th>\n",
       "      <th>2014</th>\n",
       "      <th>2015</th>\n",
       "      <th>2016</th>\n",
       "      <th>2017</th>\n",
       "      <th>2018</th>\n",
       "      <th>2019</th>\n",
       "      <th>2020</th>\n",
       "      <th>2021</th>\n",
       "    </tr>\n",
       "  </thead>\n",
       "  <tbody>\n",
       "    <tr>\n",
       "      <th>Car passengers</th>\n",
       "      <td>228</td>\n",
       "      <td>252</td>\n",
       "      <td>208</td>\n",
       "      <td>235</td>\n",
       "      <td>204</td>\n",
       "      <td>206</td>\n",
       "      <td>188</td>\n",
       "      <td>132</td>\n",
       "    </tr>\n",
       "  </tbody>\n",
       "</table>\n",
       "</div>"
      ],
      "text/plain": [
       "Year            2014  2015  2016  2017  2018  2019  2020  2021\n",
       "Car passengers   228   252   208   235   204   206   188   132"
      ]
     },
     "execution_count": 16,
     "metadata": {},
     "output_type": "execute_result"
    }
   ],
   "source": [
    "q5_1_df__year = q5_1_df[['Year', 'Road User']].groupby('Year').agg('count')\n",
    "q5_1_df__year.columns = ['Car passengers']\n",
    "q5_1_df__year = q5_1_df__year.T\n",
    "q5_1_df__year = q5_1_df__year[yr_]  # Rearranging the dataframe columns\n",
    "q5_1_df__year"
   ]
  },
  {
   "cell_type": "markdown",
   "id": "7d0c6f1b",
   "metadata": {},
   "source": [
    "The table above shows the number of accidents per year of `Road User` with category as `Car passenger`."
   ]
  },
  {
   "cell_type": "code",
   "execution_count": 17,
   "id": "a5027508",
   "metadata": {},
   "outputs": [
    {
     "data": {
      "text/html": [
       "<div>\n",
       "<style scoped>\n",
       "    .dataframe tbody tr th:only-of-type {\n",
       "        vertical-align: middle;\n",
       "    }\n",
       "\n",
       "    .dataframe tbody tr th {\n",
       "        vertical-align: top;\n",
       "    }\n",
       "\n",
       "    .dataframe thead th {\n",
       "        text-align: right;\n",
       "    }\n",
       "</style>\n",
       "<table border=\"1\" class=\"dataframe\">\n",
       "  <thead>\n",
       "    <tr style=\"text-align: right;\">\n",
       "      <th>Month</th>\n",
       "      <th>Jan</th>\n",
       "      <th>Feb</th>\n",
       "      <th>Mar</th>\n",
       "      <th>Apr</th>\n",
       "      <th>May</th>\n",
       "      <th>Jun</th>\n",
       "      <th>Jul</th>\n",
       "      <th>Aug</th>\n",
       "      <th>Sep</th>\n",
       "      <th>Oct</th>\n",
       "      <th>Nov</th>\n",
       "      <th>Dec</th>\n",
       "    </tr>\n",
       "  </thead>\n",
       "  <tbody>\n",
       "    <tr>\n",
       "      <th>Car passengers</th>\n",
       "      <td>157</td>\n",
       "      <td>102</td>\n",
       "      <td>135</td>\n",
       "      <td>140</td>\n",
       "      <td>146</td>\n",
       "      <td>113</td>\n",
       "      <td>162</td>\n",
       "      <td>165</td>\n",
       "      <td>142</td>\n",
       "      <td>127</td>\n",
       "      <td>119</td>\n",
       "      <td>145</td>\n",
       "    </tr>\n",
       "  </tbody>\n",
       "</table>\n",
       "</div>"
      ],
      "text/plain": [
       "Month           Jan  Feb  Mar  Apr  May  Jun  Jul  Aug  Sep  Oct  Nov  Dec\n",
       "Car passengers  157  102  135  140  146  113  162  165  142  127  119  145"
      ]
     },
     "execution_count": 17,
     "metadata": {},
     "output_type": "execute_result"
    }
   ],
   "source": [
    "q5_1_df__month = q5_1_df[['Month', 'Road User']].groupby('Month').agg('count')\n",
    "q5_1_df__month.columns = ['Car passengers']\n",
    "q5_1_df__month = q5_1_df__month.T\n",
    "q5_1_df__month = q5_1_df__month[months_]  # Rearranging the dataframe columns\n",
    "q5_1_df__month"
   ]
  },
  {
   "cell_type": "markdown",
   "id": "5b3e65f1",
   "metadata": {},
   "source": [
    "The table above shows the number of accidents per month over the years of `Road User` with category as `Car passenger`."
   ]
  },
  {
   "cell_type": "markdown",
   "id": "dc7f54d4",
   "metadata": {},
   "source": [
    "#### Based on task A5-1-b result, compute again the average number of crashes against Month. For each month, the average number of crashes is calculated over different years for which we have collected data for."
   ]
  },
  {
   "cell_type": "code",
   "execution_count": 18,
   "id": "3ba0cf5f",
   "metadata": {},
   "outputs": [],
   "source": [
    "# Getting the number of accidents per year per month from the data\n",
    "_temp = [[len(q5_1_df[(q5_1_df['Month'] == j) & (q5_1_df['Year'] == i)])\n",
    "          for j in months_] for i in yr_]\n",
    "\n",
    "# Taking mean along the year axis\n",
    "accident_avg = np.mean(np.array(_temp), axis=0)"
   ]
  },
  {
   "cell_type": "markdown",
   "id": "6652bc1e",
   "metadata": {},
   "source": [
    "### Q5-2) Draw a chart showing the average number of crashes over different months computed in task A5-1"
   ]
  },
  {
   "cell_type": "code",
   "execution_count": 19,
   "id": "06e3df54",
   "metadata": {},
   "outputs": [
    {
     "data": {
      "image/png": "[encoded data removed]",
      "text/plain": [
       "<Figure size 800x500 with 1 Axes>"
      ]
     },
     "metadata": {},
     "output_type": "display_data"
    }
   ],
   "source": [
    "# Plotting the data retrieved from A5-1\n",
    "plt.figure(figsize=(8, 5))\n",
    "plt.grid('on', alpha=0.5)\n",
    "\n",
    "plt.plot(months_, accident_avg, 'o', ls=':')\n",
    "plt.xlabel('Months')\n",
    "plt.ylabel('Annual average of car passengers\\nkilled in accidents')\n",
    "\n",
    "for i, v in enumerate(accident_avg):\n",
    "    plt.annotate(v, (i-0.2, v+0.2))\n",
    "\n",
    "plt.ylim(top=22)\n",
    "plt.tight_layout()"
   ]
  },
  {
   "cell_type": "markdown",
   "id": "8d0380ad",
   "metadata": {},
   "source": [
    "### Q5-3) Discuss any interesting point in the chart."
   ]
  },
  {
   "cell_type": "markdown",
   "id": "91843f38",
   "metadata": {},
   "source": [
    "1. The average accidents for `Car passengers` are not that high in `March` even though it has the most reported accidents overall. However, the most reported `Car passenger` accidents are in `August` which has second highest reported accident cases overall.\n",
    "2. `February` has the lowest number of accidents reported for `Car passengers`.\n",
    "3. The accidents drop from `August` to `November` steadily and than rise again.\n",
    "4. With an exception of `June`, the trend from `February` to `August` is a rising one."
   ]
  },
  {
   "cell_type": "markdown",
   "id": "42d5dcdd",
   "metadata": {},
   "source": [
    "## Q6) Exploring Speed, National Road Type, and Age"
   ]
  },
  {
   "cell_type": "markdown",
   "id": "e640832d",
   "metadata": {},
   "source": [
    "## Q6-1) Draw a chart showing the average speed against National Road Type for car drivers"
   ]
  },
  {
   "cell_type": "code",
   "execution_count": 20,
   "id": "a447084b",
   "metadata": {},
   "outputs": [],
   "source": [
    "# Make a copy of `q4_df`\n",
    "q6_1_df = copy.deepcopy(q4_df)"
   ]
  },
  {
   "cell_type": "code",
   "execution_count": 21,
   "id": "4f1e2b84",
   "metadata": {},
   "outputs": [
    {
     "data": {
      "image/png": "[encoded data removed]",
      "text/plain": [
       "<Figure size 900x600 with 1 Axes>"
      ]
     },
     "metadata": {},
     "output_type": "display_data"
    }
   ],
   "source": [
    "_temp = q6_1_df[['National Road Type', 'Speed']].groupby('National Road Type').mean('Speed').reset_index()\n",
    "\n",
    "plt.figure(figsize=(9, 6))\n",
    "plt.grid('on')\n",
    "\n",
    "plt.plot(_temp['National Road Type'], _temp['Speed'], 'o:')\n",
    "\n",
    "for i, v in enumerate(_temp['Speed']):\n",
    "    plt.annotate(np.round(v, 3), (i, v+1.5))\n",
    "\n",
    "plt.xticks(rotation = 90);\n",
    "plt.ylabel('Average Speed')\n",
    "plt.xlabel('National Road Type')\n",
    "plt.ylim(top=90)\n",
    "plt.tight_layout()"
   ]
  },
  {
   "cell_type": "markdown",
   "id": "e7c0ce97",
   "metadata": {},
   "source": [
    "## Q6-2) Due to measurement error, there are some counter-intuitive values in Age column. Identify those values and replace them with zero."
   ]
  },
  {
   "cell_type": "code",
   "execution_count": 22,
   "id": "994972e3",
   "metadata": {},
   "outputs": [
    {
     "name": "stdout",
     "output_type": "stream",
     "text": [
      "Int64Index([  40,   90,  162,  738, 1653, 1654, 1655, 1656, 3146, 3147, 3699,\n",
      "            4166, 5204, 7702, 8434, 8490],\n",
      "           dtype='int64')\n"
     ]
    }
   ],
   "source": [
    "# Identifying the error values in `Age` column\n",
    "err_ = q6_1_df[q6_1_df[['Age', 'Age Group']]['Age'] < 0]\n",
    "\n",
    "# Get the indices of the rows with erronous `Age` parameter\n",
    "print(err_.index)"
   ]
  },
  {
   "cell_type": "markdown",
   "id": "67f4eab6",
   "metadata": {},
   "source": [
    "The indices above contain data where the `Age` parameter has been erronously filled."
   ]
  },
  {
   "cell_type": "code",
   "execution_count": 23,
   "id": "1c04f16c",
   "metadata": {},
   "outputs": [
    {
     "name": "stdout",
     "output_type": "stream",
     "text": [
      "[-999, -999, -9, -9, -9, -9, -9, -9, -9, -9, -9, -9, -999, -999, -9, -9]\n"
     ]
    }
   ],
   "source": [
    "# Get the values that have been filled errounously in the data\n",
    "print(list(err_['Age']))"
   ]
  },
  {
   "cell_type": "markdown",
   "id": "8b0e7bc7",
   "metadata": {},
   "source": [
    "`pd.clip` function can be used to clip these values off to 0."
   ]
  },
  {
   "cell_type": "code",
   "execution_count": 24,
   "id": "c949ecbb",
   "metadata": {},
   "outputs": [],
   "source": [
    "# Clip the negative values to 0\n",
    "q6_1_df['Age'] = q6_1_df['Age'].clip(lower=0)"
   ]
  },
  {
   "cell_type": "code",
   "execution_count": 25,
   "id": "b11dbbaa",
   "metadata": {},
   "outputs": [
    {
     "data": {
      "text/plain": [
       "[0, 0, 0, 0, 0, 0, 0, 0, 0, 0, 0, 0, 0, 0, 0, 0]"
      ]
     },
     "execution_count": 25,
     "metadata": {},
     "output_type": "execute_result"
    }
   ],
   "source": [
    "# Verifying that all the values for `Age` parameters at the error indices are now 0.\n",
    "list(q6_1_df.loc[err_.index]['Age'])"
   ]
  },
  {
   "cell_type": "markdown",
   "id": "60a6dcfa",
   "metadata": {},
   "source": [
    "## Q7) Relationship between Age, Speed, and Driving Experiences"
   ]
  },
  {
   "cell_type": "markdown",
   "id": "cc7165d7",
   "metadata": {},
   "source": [
    "### Q7-1) Compute pairwise correlation of columns, Age, Speed, and Driving Experiences for vehicle drivers (such as Motorcycle rider). Which two features have the highest linear association?"
   ]
  },
  {
   "cell_type": "markdown",
   "id": "42bee954",
   "metadata": {},
   "source": [
    "**Note**: Use the dataset from previous task (Task A6) and complete Tasks, A7-A9."
   ]
  },
  {
   "cell_type": "code",
   "execution_count": 26,
   "id": "fe2eea86",
   "metadata": {},
   "outputs": [],
   "source": [
    "# make a copy of `q6_1_df` dataframe\n",
    "q7_df = copy.deepcopy(q6_1_df)"
   ]
  },
  {
   "cell_type": "markdown",
   "id": "c3a1131a",
   "metadata": {},
   "source": [
    "As we need correlations related to all the `Road User` values, the first thing to do is to get the unique values for them."
   ]
  },
  {
   "cell_type": "code",
   "execution_count": 27,
   "id": "fde84db4",
   "metadata": {},
   "outputs": [],
   "source": [
    "# Get unique values\n",
    "ruser = list(np.unique(q7_df['Road User']))\n",
    "\n",
    "# The `ruser` contain values that are not \"vehicle drives\",\n",
    "# These values should also be removed\n",
    "[ruser.remove(i) for i in ['Car passenger', 'Motorcycle pillion Car passenger', 'Pedal cyclist', 'Pedestrian']]\n",
    "\n",
    "_temp = q7_df[['Age', 'Speed', 'Driving experience', 'Road User']]\n",
    "corr = [_temp[_temp['Road User'] == i].corr() for i in ruser]"
   ]
  },
  {
   "cell_type": "code",
   "execution_count": 28,
   "id": "6757705a",
   "metadata": {},
   "outputs": [
    {
     "name": "stdout",
     "output_type": "stream",
     "text": [
      "Road User = Car driver\n",
      "\n",
      "Correlations; \n",
      "                          Age     Speed  Driving experience\n",
      "Age                 1.000000  0.008019            0.947057\n",
      "Speed               0.008019  1.000000            0.005472\n",
      "Driving experience  0.947057  0.005472            1.000000\n",
      "\n",
      "\n",
      "Road User = Motorcycle rider\n",
      "\n",
      "Correlations; \n",
      "                          Age     Speed  Driving experience\n",
      "Age                 1.000000 -0.017874            0.916216\n",
      "Speed              -0.017874  1.000000           -0.012161\n",
      "Driving experience  0.916216 -0.012161            1.000000\n",
      "\n",
      "\n",
      "Road User = Other vehicle driver\n",
      "\n",
      "Correlations; \n",
      "                          Age     Speed  Driving experience\n",
      "Age                 1.000000 -0.008394            0.938338\n",
      "Speed              -0.008394  1.000000            0.041687\n",
      "Driving experience  0.938338  0.041687            1.000000\n",
      "\n",
      "\n"
     ]
    }
   ],
   "source": [
    "for i, j in zip(ruser, corr):\n",
    "    print(f'Road User = {i}\\n')\n",
    "    print(f'Correlations; \\n {j}')\n",
    "    print('\\n')"
   ]
  },
  {
   "cell_type": "markdown",
   "id": "a383db3c",
   "metadata": {},
   "source": [
    "In all cases for `Road User` values, the `Age` and `Driving experience` parameters show strong correlation."
   ]
  },
  {
   "cell_type": "markdown",
   "id": "edc8dcf6",
   "metadata": {},
   "source": [
    "## Q7-2) Now let's look at the relationship between the number of crashes and Driving Experiences. "
   ]
  },
  {
   "cell_type": "markdown",
   "id": "2af43cfe",
   "metadata": {},
   "source": [
    "This exercise can be done using two methods,\n",
    "1. With histogram\n",
    "    1. By calculating the number of crashes via `pandas` masking, and plotting via `matplotlib`.\n",
    "    2. By using `seaborn.histplot`.\n",
    "2. With scatter plot"
   ]
  },
  {
   "cell_type": "code",
   "execution_count": 29,
   "id": "e23a2698",
   "metadata": {},
   "outputs": [],
   "source": [
    "# Get the dataframe correct by selecting only those rows that have,\n",
    "# Car driver, Motorcycle rider, Other vehicle driver as values\n",
    "q7_2_df = q7_df[np.isin(q7_df, ruser).any(axis=1)]\n",
    "q7_2_df.reset_index(drop=True, inplace=True)"
   ]
  },
  {
   "cell_type": "code",
   "execution_count": 30,
   "id": "b53cde5c",
   "metadata": {},
   "outputs": [
    {
     "data": {
      "text/plain": [
       "array(['Car driver', 'Motorcycle rider', 'Other vehicle driver'],\n",
       "      dtype=object)"
      ]
     },
     "execution_count": 30,
     "metadata": {},
     "output_type": "execute_result"
    }
   ],
   "source": [
    "# Verify\n",
    "np.unique(q7_2_df['Road User'])"
   ]
  },
  {
   "cell_type": "markdown",
   "id": "13295fb4",
   "metadata": {},
   "source": [
    "#### Pandas and Matplotlib histogram"
   ]
  },
  {
   "cell_type": "code",
   "execution_count": 31,
   "id": "48d45579",
   "metadata": {},
   "outputs": [
    {
     "data": {
      "image/png": "[encoded data removed]",
      "text/plain": [
       "<Figure size 1200x500 with 1 Axes>"
      ]
     },
     "metadata": {},
     "output_type": "display_data"
    }
   ],
   "source": [
    "# Number of crashes using `pandas` and `matplotlib`.\n",
    "d_exp = np.unique(q7_2_df['Driving experience'])\n",
    "n_crash = [len(q7_2_df[q7_2_df['Driving experience'] == i]) for i in d_exp]\n",
    "\n",
    "f, ax = plt.subplots(1, 1, figsize=(12, 5))\n",
    "plt.grid('on', alpha=0.25)\n",
    "ax.bar(d_exp, n_crash, label='Driving experience')\n",
    "ax.set_xlabel('Driving experience [years]')\n",
    "ax.set_ylabel('Number of crashes')\n",
    "plt.legend(loc='best')\n",
    "plt.tight_layout()"
   ]
  },
  {
   "cell_type": "markdown",
   "id": "cde8f722",
   "metadata": {},
   "source": [
    "#### Seaborn histogram"
   ]
  },
  {
   "cell_type": "code",
   "execution_count": 32,
   "id": "fa6227d5",
   "metadata": {},
   "outputs": [
    {
     "data": {
      "image/png": "[encoded data removed]",
      "text/plain": [
       "<Figure size 1200x500 with 1 Axes>"
      ]
     },
     "metadata": {},
     "output_type": "display_data"
    }
   ],
   "source": [
    "# Number of crashes using `seaborn.histplot`\n",
    "_temp2 = q7_2_df[['Driving experience']]\n",
    "\n",
    "f, ax = plt.subplots(1, 1, figsize=(12, 5))\n",
    "sns.histplot(_temp2, bins=range(0, 67), ax=ax)\n",
    "ax.set_ylabel('Number of crashes')\n",
    "plt.xlabel('Driving experience [year]');"
   ]
  },
  {
   "cell_type": "markdown",
   "id": "e57f759a",
   "metadata": {},
   "source": [
    "#### Matplotlib scatterplot"
   ]
  },
  {
   "cell_type": "code",
   "execution_count": 33,
   "id": "22e24918",
   "metadata": {},
   "outputs": [
    {
     "data": {
      "image/png": "[encoded data removed]",
      "text/plain": [
       "<Figure size 1000x500 with 1 Axes>"
      ]
     },
     "metadata": {},
     "output_type": "display_data"
    }
   ],
   "source": [
    "crash_dict = _temp2.value_counts().to_dict()\n",
    "\n",
    "plt.figure(figsize=(10, 5))\n",
    "plt.grid('on')\n",
    "plt.scatter(crash_dict.keys(), crash_dict.values(), c='y', marker='o')\n",
    "plt.xlabel('Driving experience [years]')\n",
    "plt.ylabel('Number of crashes')\n",
    "plt.tight_layout()"
   ]
  },
  {
   "cell_type": "markdown",
   "id": "64e51d7f",
   "metadata": {},
   "source": [
    "1. Generally, with an **increase** in driving experience, people seem to be having **lesser accidents** overall.\n",
    "2. It can also be seen that the middle part of the histogram age group has most tendency to get into accidents."
   ]
  },
  {
   "cell_type": "markdown",
   "id": "90d69548",
   "metadata": {},
   "source": [
    "## Q8) Investigating yearly trend of crash"
   ]
  },
  {
   "cell_type": "code",
   "execution_count": 34,
   "id": "12dbc40c",
   "metadata": {},
   "outputs": [],
   "source": [
    "# Get a fresh copy of dataframe\n",
    "q8_df = copy.deepcopy(q6_1_df)"
   ]
  },
  {
   "cell_type": "markdown",
   "id": "7e290468",
   "metadata": {},
   "source": [
    "Compute the number of crashes per year by using `value_counts` function from `pandas` library."
   ]
  },
  {
   "cell_type": "code",
   "execution_count": 35,
   "id": "f0b5d24a",
   "metadata": {},
   "outputs": [
    {
     "data": {
      "text/html": [
       "<div>\n",
       "<style scoped>\n",
       "    .dataframe tbody tr th:only-of-type {\n",
       "        vertical-align: middle;\n",
       "    }\n",
       "\n",
       "    .dataframe tbody tr th {\n",
       "        vertical-align: top;\n",
       "    }\n",
       "\n",
       "    .dataframe thead th {\n",
       "        text-align: right;\n",
       "    }\n",
       "</style>\n",
       "<table border=\"1\" class=\"dataframe\">\n",
       "  <thead>\n",
       "    <tr style=\"text-align: right;\">\n",
       "      <th></th>\n",
       "      <th>Year</th>\n",
       "      <th># of Crashes</th>\n",
       "    </tr>\n",
       "  </thead>\n",
       "  <tbody>\n",
       "    <tr>\n",
       "      <th>0</th>\n",
       "      <td>2016</td>\n",
       "      <td>1292</td>\n",
       "    </tr>\n",
       "    <tr>\n",
       "      <th>1</th>\n",
       "      <td>2017</td>\n",
       "      <td>1227</td>\n",
       "    </tr>\n",
       "    <tr>\n",
       "      <th>2</th>\n",
       "      <td>2015</td>\n",
       "      <td>1207</td>\n",
       "    </tr>\n",
       "    <tr>\n",
       "      <th>3</th>\n",
       "      <td>2019</td>\n",
       "      <td>1190</td>\n",
       "    </tr>\n",
       "    <tr>\n",
       "      <th>4</th>\n",
       "      <td>2014</td>\n",
       "      <td>1151</td>\n",
       "    </tr>\n",
       "    <tr>\n",
       "      <th>5</th>\n",
       "      <td>2018</td>\n",
       "      <td>1133</td>\n",
       "    </tr>\n",
       "    <tr>\n",
       "      <th>6</th>\n",
       "      <td>2020</td>\n",
       "      <td>1093</td>\n",
       "    </tr>\n",
       "    <tr>\n",
       "      <th>7</th>\n",
       "      <td>2021</td>\n",
       "      <td>847</td>\n",
       "    </tr>\n",
       "  </tbody>\n",
       "</table>\n",
       "</div>"
      ],
      "text/plain": [
       "   Year  # of Crashes\n",
       "0  2016          1292\n",
       "1  2017          1227\n",
       "2  2015          1207\n",
       "3  2019          1190\n",
       "4  2014          1151\n",
       "5  2018          1133\n",
       "6  2020          1093\n",
       "7  2021           847"
      ]
     },
     "execution_count": 35,
     "metadata": {},
     "output_type": "execute_result"
    }
   ],
   "source": [
    "year_crash_df = pd.DataFrame(q8_df['Year'].value_counts()).reset_index()\n",
    "year_crash_df.columns = ['Year', '# of Crashes']\n",
    "\n",
    "year_crash_df"
   ]
  },
  {
   "cell_type": "markdown",
   "id": "e57d8d88",
   "metadata": {},
   "source": [
    "## Q8-1) Fit a linear regression using Python to this data"
   ]
  },
  {
   "cell_type": "markdown",
   "id": "371f2661",
   "metadata": {},
   "source": [
    "Plotting the data for visualization"
   ]
  },
  {
   "cell_type": "code",
   "execution_count": 36,
   "id": "e6777d50",
   "metadata": {},
   "outputs": [
    {
     "data": {
      "image/png": "[encoded data removed]",
      "text/plain": [
       "<Figure size 640x480 with 1 Axes>"
      ]
     },
     "metadata": {},
     "output_type": "display_data"
    }
   ],
   "source": [
    "plt.grid('on')\n",
    "plt.plot(year_crash_df['Year'], year_crash_df['# of Crashes'], 'ro');\n",
    "plt.xlabel('Years')\n",
    "plt.ylabel('Number of crashes')\n",
    "plt.tight_layout();"
   ]
  },
  {
   "cell_type": "markdown",
   "id": "c7412d05",
   "metadata": {},
   "source": [
    "Performing a linear regression using `scipy.stats.linregression`."
   ]
  },
  {
   "cell_type": "code",
   "execution_count": 37,
   "id": "53ceae22",
   "metadata": {},
   "outputs": [],
   "source": [
    "slope, intercept, _, _, _ = scipy.stats.linregress(year_crash_df['Year'], year_crash_df['# of Crashes'])\n",
    "line = [slope*i + intercept for i in yr_]"
   ]
  },
  {
   "cell_type": "code",
   "execution_count": 38,
   "id": "27b7f227",
   "metadata": {},
   "outputs": [
    {
     "data": {
      "image/png": "[encoded data removed]",
      "text/plain": [
       "<Figure size 640x480 with 1 Axes>"
      ]
     },
     "metadata": {},
     "output_type": "display_data"
    }
   ],
   "source": [
    "plt.grid('on')\n",
    "\n",
    "plt.scatter(year_crash_df['Year'], year_crash_df['# of Crashes'], c='r', label='Number of accidents')\n",
    "plt.plot(yr_, line, label='linear regression fit');\n",
    "\n",
    "plt.xlabel('Years')\n",
    "plt.ylabel('Number of crashes')\n",
    "plt.legend(loc='best')\n",
    "plt.tight_layout()"
   ]
  },
  {
   "cell_type": "markdown",
   "id": "b2ea0eee",
   "metadata": {},
   "source": [
    "## Q8-2) Use the linear fit to predict the number of crashes in 2022"
   ]
  },
  {
   "cell_type": "markdown",
   "id": "91f35978",
   "metadata": {},
   "source": [
    "A linear regression was calculated in Q8-1). The same will be used for the prediction of crashes in 2022."
   ]
  },
  {
   "cell_type": "code",
   "execution_count": 39,
   "id": "e6526650",
   "metadata": {},
   "outputs": [
    {
     "data": {
      "image/png": "[encoded data removed]",
      "text/plain": [
       "<Figure size 640x480 with 1 Axes>"
      ]
     },
     "metadata": {},
     "output_type": "display_data"
    }
   ],
   "source": [
    "# Increasing yr_ to include 2022 as well,\n",
    "yr2_ = list(yr_)\n",
    "yr2_.append(2022)\n",
    "\n",
    "# Calculating the line from slope and intercept again\n",
    "line2 = [slope*i + intercept for i in yr2_]\n",
    "\n",
    "\n",
    "plt.grid('on')\n",
    "plt.scatter(year_crash_df['Year'], year_crash_df['# of Crashes'], c='r', marker='o', label='Number of accidents')\n",
    "plt.plot(yr2_[-1], line2[-1], 'go')\n",
    "plt.plot(yr2_, line2)\n",
    "plt.annotate(round(line2[-1], 3), (yr2_[-1]-1, line2[-1] + 10));\n",
    "plt.xlabel('Years')\n",
    "plt.ylabel('Number of accidents')\n",
    "plt.tight_layout()"
   ]
  },
  {
   "cell_type": "markdown",
   "id": "e2880523",
   "metadata": {},
   "source": [
    "The linear regression predicts that for the year 2022, 976 accidents can happen."
   ]
  },
  {
   "cell_type": "markdown",
   "id": "1952d2ad",
   "metadata": {},
   "source": [
    "## Q8-3) Can you think of a better model that well captures the trend of yearly crash? Develop a new model and explain why it is better suited for this task."
   ]
  },
  {
   "cell_type": "markdown",
   "id": "e5ac0e16",
   "metadata": {},
   "source": [
    "Since the data is rising and falling, a better fit to the data can be a normal distribution. Using `scipy.stats.norm`, the data can be fitted easily. The normal distribution covers all points from the higher ups to the low ones as well, this is why I think a normal distribution will be a better fit for this data."
   ]
  },
  {
   "cell_type": "code",
   "execution_count": 40,
   "id": "670146b5",
   "metadata": {},
   "outputs": [],
   "source": [
    "norm, std = scipy.stats.norm.fit(year_crash_df['Year'])"
   ]
  },
  {
   "cell_type": "markdown",
   "id": "6212c306",
   "metadata": {},
   "source": [
    "### Q8-4) Use your new model to predict the number of crashes in 2022."
   ]
  },
  {
   "cell_type": "code",
   "execution_count": 41,
   "id": "4e2d8404",
   "metadata": {},
   "outputs": [
    {
     "data": {
      "image/png": "[encoded data removed]",
      "text/plain": [
       "<Figure size 640x480 with 2 Axes>"
      ]
     },
     "metadata": {},
     "output_type": "display_data"
    }
   ],
   "source": [
    "# Get the data\n",
    "x = np.array(year_crash_df['Year'])\n",
    "y = np.array(year_crash_df['# of Crashes'])\n",
    "\n",
    "# sort the data\n",
    "x_, y_ = [np.array(i) for i in zip(*sorted(zip(x, y)))]\n",
    "\n",
    "x_pred = np.linspace(x_.min(), x_.max()+1, 1000)\n",
    "\n",
    "\n",
    "n_pdf = scipy.stats.norm.pdf(x_pred, norm, std)\n",
    "\n",
    "# Plot the data and the model\n",
    "f, ax = plt.subplots(1, 1)\n",
    "plt.grid('on')\n",
    "\n",
    "ax.plot(x_, y_, 'ro')\n",
    "\n",
    "tx = ax.twinx()\n",
    "\n",
    "\n",
    "tx.plot(x_pred, n_pdf)\n",
    "tx.plot(x_pred[-1], n_pdf[-1], 'yo')\n",
    "\n",
    "ax.set_ylabel('Number of crashes')\n",
    "ax.set_xlabel('Year')\n",
    "tx.set_ylabel('Normal PDF')\n",
    "plt.tight_layout()"
   ]
  },
  {
   "cell_type": "markdown",
   "id": "3de6d091",
   "metadata": {},
   "source": [
    "The new model fitted predicts that the number of accidents in `2022` will be `closer to the number of accidents` that happened in `2021`"
   ]
  },
  {
   "cell_type": "markdown",
   "id": "ac0bbaff",
   "metadata": {},
   "source": [
    "## Q9) Rather than replacing some counter-intuitive values with zero in task A6, use a better (e.g., modelbased) approach to fill in the counter-intuitive values."
   ]
  },
  {
   "cell_type": "markdown",
   "id": "2454b1b8",
   "metadata": {},
   "source": [
    "For the predictions of age, we first need the data that had the age values missing. i.e, `q4_df`"
   ]
  },
  {
   "cell_type": "code",
   "execution_count": 42,
   "id": "75a164b1",
   "metadata": {},
   "outputs": [],
   "source": [
    "# Make a copy\n",
    "q9_df = copy.deepcopy(q4_df)"
   ]
  },
  {
   "cell_type": "code",
   "execution_count": 43,
   "id": "36439569",
   "metadata": {},
   "outputs": [
    {
     "data": {
      "text/plain": [
       "True"
      ]
     },
     "execution_count": 43,
     "metadata": {},
     "output_type": "execute_result"
    }
   ],
   "source": [
    "q9_df['Age Group'].isnull().any()"
   ]
  },
  {
   "cell_type": "markdown",
   "id": "7fe79233",
   "metadata": {},
   "source": [
    "An issue with this data set is that it is missing some `Age Group` values as well. So, we drop those values."
   ]
  },
  {
   "cell_type": "code",
   "execution_count": 44,
   "id": "84cc87b4",
   "metadata": {},
   "outputs": [],
   "source": [
    "q9_df = q9_df[q9_df['Age Group'].notna()]\n",
    "q9_df.reset_index(drop=True, inplace=True)"
   ]
  },
  {
   "cell_type": "markdown",
   "id": "fa515875",
   "metadata": {},
   "source": [
    "Now, let's see what age groups do we have."
   ]
  },
  {
   "cell_type": "code",
   "execution_count": 45,
   "id": "1c337b27",
   "metadata": {},
   "outputs": [
    {
     "data": {
      "text/plain": [
       "40      40_to_64\n",
       "90      40_to_64\n",
       "5194     0_to_16\n",
       "7692    65_to_74\n",
       "Name: Age Group, dtype: object"
      ]
     },
     "execution_count": 45,
     "metadata": {},
     "output_type": "execute_result"
    }
   ],
   "source": [
    "q9_df[q9_df['Age'] < 0]['Age Group']"
   ]
  },
  {
   "cell_type": "markdown",
   "id": "8893d1f8",
   "metadata": {},
   "source": [
    "So, there are 2 values missing from `40_to_64`, 1 from `0_to_16` and 1 from `65_to_74`. To predict the ages, `LinearRegression` from `sklearn` library will be used."
   ]
  },
  {
   "cell_type": "code",
   "execution_count": 46,
   "id": "4fa2cc71",
   "metadata": {},
   "outputs": [],
   "source": [
    "# Function to get the predictive ages\n",
    "def get_age_values(_df):\n",
    "    test_data = _df[_df['Age'] < 0]\n",
    "    train_data = _df[_df['Age'] > 0]\n",
    "\n",
    "    x_train = train_data[['Speed']]\n",
    "    y_train = train_data[['Age']]\n",
    "\n",
    "    lr = LinearRegression()\n",
    "    lr.fit(x_train, y_train)\n",
    "    \n",
    "    x_test = test_data['Speed']\n",
    "    x_test = pd.DataFrame(x_test)\n",
    "    \n",
    "    return np.floor(np.array(lr.predict(x_test)).flatten())"
   ]
  },
  {
   "cell_type": "code",
   "execution_count": 47,
   "id": "f55311ee",
   "metadata": {},
   "outputs": [],
   "source": [
    "# Separating the age groups\n",
    "pd_00to16 = q9_df[q9_df['Age Group'] == '0_to_16']\n",
    "pd_40to64 = q9_df[q9_df['Age Group'] == '40_to_64']\n",
    "pd_65to75 = q9_df[q9_df['Age Group'] == '65_to_74']"
   ]
  },
  {
   "cell_type": "code",
   "execution_count": 48,
   "id": "a65ad02c",
   "metadata": {},
   "outputs": [],
   "source": [
    "# Getting the age values from the predictive model\n",
    "vals1 = get_age_values(pd_00to16)\n",
    "vals2 = get_age_values(pd_40to64)\n",
    "vals3 = get_age_values(pd_65to75)"
   ]
  },
  {
   "cell_type": "code",
   "execution_count": 49,
   "id": "7a876c87",
   "metadata": {},
   "outputs": [
    {
     "data": {
      "text/plain": [
       "(array([9.]), array([51., 51.]), array([69.]))"
      ]
     },
     "execution_count": 49,
     "metadata": {},
     "output_type": "execute_result"
    }
   ],
   "source": [
    "vals1, vals2, vals3"
   ]
  },
  {
   "cell_type": "markdown",
   "id": "af14dd2b",
   "metadata": {},
   "source": [
    "So the predicted age in the age group of `0_to_16` is `9`. Both the missing ages from `40_to_64` age group are calculated to be `51`, where as the value missing in `65_to_74` age group came out to be `69`."
   ]
  },
  {
   "cell_type": "markdown",
   "id": "c0bfb21c",
   "metadata": {},
   "source": [
    "# Part-B1\n",
    "\n",
    "# Decision Tree Classification on Song Popularity Dataset and K-means Clustering on Other Data"
   ]
  },
  {
   "cell_type": "markdown",
   "id": "d125c54b",
   "metadata": {},
   "source": [
    "Read the data into a variable, and clean it up by removing the duplicate values if they exist."
   ]
  },
  {
   "cell_type": "code",
   "execution_count": 50,
   "id": "9107db6c",
   "metadata": {},
   "outputs": [],
   "source": [
    "sdata = pd.read_csv('song_data.csv')\n",
    "\n",
    "sdata = sdata.drop_duplicates()\n",
    "sdata.reset_index(inplace=True)"
   ]
  },
  {
   "cell_type": "markdown",
   "id": "6a1be2d3",
   "metadata": {},
   "source": [
    "Keep a copy, for safekeeping."
   ]
  },
  {
   "cell_type": "code",
   "execution_count": 51,
   "id": "4e53105e",
   "metadata": {},
   "outputs": [],
   "source": [
    "orig = copy.deepcopy(sdata)"
   ]
  },
  {
   "cell_type": "markdown",
   "id": "6bfd65d1",
   "metadata": {},
   "source": [
    "Dropping few not-needed columns, and storing the `song_popularity` into another variable."
   ]
  },
  {
   "cell_type": "markdown",
   "id": "cbc6677a",
   "metadata": {},
   "source": [
    "Let's see the correlations first to get an idea of what columns should be picked."
   ]
  },
  {
   "cell_type": "code",
   "execution_count": 52,
   "id": "1805e19c",
   "metadata": {},
   "outputs": [
    {
     "data": {
      "text/html": [
       "<div>\n",
       "<style scoped>\n",
       "    .dataframe tbody tr th:only-of-type {\n",
       "        vertical-align: middle;\n",
       "    }\n",
       "\n",
       "    .dataframe tbody tr th {\n",
       "        vertical-align: top;\n",
       "    }\n",
       "\n",
       "    .dataframe thead th {\n",
       "        text-align: right;\n",
       "    }\n",
       "</style>\n",
       "<table border=\"1\" class=\"dataframe\">\n",
       "  <thead>\n",
       "    <tr style=\"text-align: right;\">\n",
       "      <th></th>\n",
       "      <th>index</th>\n",
       "      <th>song_popularity</th>\n",
       "      <th>song_duration_ms</th>\n",
       "      <th>acousticness</th>\n",
       "      <th>danceability</th>\n",
       "      <th>energy</th>\n",
       "      <th>instrumentalness</th>\n",
       "      <th>key</th>\n",
       "      <th>liveness</th>\n",
       "      <th>loudness</th>\n",
       "      <th>audio_mode</th>\n",
       "      <th>speechiness</th>\n",
       "      <th>tempo</th>\n",
       "      <th>time_signature</th>\n",
       "      <th>audio_valence</th>\n",
       "    </tr>\n",
       "  </thead>\n",
       "  <tbody>\n",
       "    <tr>\n",
       "      <th>index</th>\n",
       "      <td>1.000000</td>\n",
       "      <td>-0.104198</td>\n",
       "      <td>-0.044311</td>\n",
       "      <td>-0.052298</td>\n",
       "      <td>0.068787</td>\n",
       "      <td>0.049866</td>\n",
       "      <td>0.042978</td>\n",
       "      <td>0.017364</td>\n",
       "      <td>0.000646</td>\n",
       "      <td>0.090375</td>\n",
       "      <td>-0.072950</td>\n",
       "      <td>0.064443</td>\n",
       "      <td>-0.000005</td>\n",
       "      <td>0.000577</td>\n",
       "      <td>-0.074769</td>\n",
       "    </tr>\n",
       "    <tr>\n",
       "      <th>song_popularity</th>\n",
       "      <td>-0.104198</td>\n",
       "      <td>1.000000</td>\n",
       "      <td>-0.006919</td>\n",
       "      <td>-0.032647</td>\n",
       "      <td>0.053833</td>\n",
       "      <td>-0.015113</td>\n",
       "      <td>-0.090165</td>\n",
       "      <td>-0.002170</td>\n",
       "      <td>-0.034314</td>\n",
       "      <td>0.052607</td>\n",
       "      <td>0.007052</td>\n",
       "      <td>0.000600</td>\n",
       "      <td>-0.024645</td>\n",
       "      <td>0.023037</td>\n",
       "      <td>-0.044289</td>\n",
       "    </tr>\n",
       "    <tr>\n",
       "      <th>song_duration_ms</th>\n",
       "      <td>-0.044311</td>\n",
       "      <td>-0.006919</td>\n",
       "      <td>1.000000</td>\n",
       "      <td>-0.113820</td>\n",
       "      <td>-0.089205</td>\n",
       "      <td>0.096875</td>\n",
       "      <td>-0.025525</td>\n",
       "      <td>-0.006534</td>\n",
       "      <td>0.020954</td>\n",
       "      <td>0.028614</td>\n",
       "      <td>-0.028230</td>\n",
       "      <td>-0.079338</td>\n",
       "      <td>0.013774</td>\n",
       "      <td>0.005530</td>\n",
       "      <td>-0.069465</td>\n",
       "    </tr>\n",
       "    <tr>\n",
       "      <th>acousticness</th>\n",
       "      <td>-0.052298</td>\n",
       "      <td>-0.032647</td>\n",
       "      <td>-0.113820</td>\n",
       "      <td>1.000000</td>\n",
       "      <td>-0.172948</td>\n",
       "      <td>-0.679798</td>\n",
       "      <td>0.179552</td>\n",
       "      <td>-0.000949</td>\n",
       "      <td>-0.085703</td>\n",
       "      <td>-0.570429</td>\n",
       "      <td>0.059611</td>\n",
       "      <td>-0.085451</td>\n",
       "      <td>-0.144247</td>\n",
       "      <td>-0.153009</td>\n",
       "      <td>-0.128045</td>\n",
       "    </tr>\n",
       "    <tr>\n",
       "      <th>danceability</th>\n",
       "      <td>0.068787</td>\n",
       "      <td>0.053833</td>\n",
       "      <td>-0.089205</td>\n",
       "      <td>-0.172948</td>\n",
       "      <td>1.000000</td>\n",
       "      <td>0.054728</td>\n",
       "      <td>-0.125088</td>\n",
       "      <td>0.008166</td>\n",
       "      <td>-0.094284</td>\n",
       "      <td>0.174165</td>\n",
       "      <td>-0.098346</td>\n",
       "      <td>0.200974</td>\n",
       "      <td>-0.127419</td>\n",
       "      <td>0.136648</td>\n",
       "      <td>0.350088</td>\n",
       "    </tr>\n",
       "    <tr>\n",
       "      <th>energy</th>\n",
       "      <td>0.049866</td>\n",
       "      <td>-0.015113</td>\n",
       "      <td>0.096875</td>\n",
       "      <td>-0.679798</td>\n",
       "      <td>0.054728</td>\n",
       "      <td>1.000000</td>\n",
       "      <td>-0.222068</td>\n",
       "      <td>0.014362</td>\n",
       "      <td>0.176281</td>\n",
       "      <td>0.765920</td>\n",
       "      <td>-0.048955</td>\n",
       "      <td>0.072149</td>\n",
       "      <td>0.182729</td>\n",
       "      <td>0.144481</td>\n",
       "      <td>0.315984</td>\n",
       "    </tr>\n",
       "    <tr>\n",
       "      <th>instrumentalness</th>\n",
       "      <td>0.042978</td>\n",
       "      <td>-0.090165</td>\n",
       "      <td>-0.025525</td>\n",
       "      <td>0.179552</td>\n",
       "      <td>-0.125088</td>\n",
       "      <td>-0.222068</td>\n",
       "      <td>1.000000</td>\n",
       "      <td>-0.008393</td>\n",
       "      <td>-0.040253</td>\n",
       "      <td>-0.398995</td>\n",
       "      <td>-0.019001</td>\n",
       "      <td>-0.077082</td>\n",
       "      <td>-0.041688</td>\n",
       "      <td>-0.067056</td>\n",
       "      <td>-0.198091</td>\n",
       "    </tr>\n",
       "    <tr>\n",
       "      <th>key</th>\n",
       "      <td>0.017364</td>\n",
       "      <td>-0.002170</td>\n",
       "      <td>-0.006534</td>\n",
       "      <td>-0.000949</td>\n",
       "      <td>0.008166</td>\n",
       "      <td>0.014362</td>\n",
       "      <td>-0.008393</td>\n",
       "      <td>1.000000</td>\n",
       "      <td>-0.002718</td>\n",
       "      <td>0.008014</td>\n",
       "      <td>-0.175160</td>\n",
       "      <td>0.028683</td>\n",
       "      <td>-0.004800</td>\n",
       "      <td>-0.007503</td>\n",
       "      <td>0.023343</td>\n",
       "    </tr>\n",
       "    <tr>\n",
       "      <th>liveness</th>\n",
       "      <td>0.000646</td>\n",
       "      <td>-0.034314</td>\n",
       "      <td>0.020954</td>\n",
       "      <td>-0.085703</td>\n",
       "      <td>-0.094284</td>\n",
       "      <td>0.176281</td>\n",
       "      <td>-0.040253</td>\n",
       "      <td>-0.002718</td>\n",
       "      <td>1.000000</td>\n",
       "      <td>0.112186</td>\n",
       "      <td>-0.000879</td>\n",
       "      <td>0.093895</td>\n",
       "      <td>0.026070</td>\n",
       "      <td>0.014198</td>\n",
       "      <td>0.016848</td>\n",
       "    </tr>\n",
       "    <tr>\n",
       "      <th>loudness</th>\n",
       "      <td>0.090375</td>\n",
       "      <td>0.052607</td>\n",
       "      <td>0.028614</td>\n",
       "      <td>-0.570429</td>\n",
       "      <td>0.174165</td>\n",
       "      <td>0.765920</td>\n",
       "      <td>-0.398995</td>\n",
       "      <td>0.008014</td>\n",
       "      <td>0.112186</td>\n",
       "      <td>1.000000</td>\n",
       "      <td>-0.055801</td>\n",
       "      <td>0.078447</td>\n",
       "      <td>0.140722</td>\n",
       "      <td>0.112558</td>\n",
       "      <td>0.210589</td>\n",
       "    </tr>\n",
       "    <tr>\n",
       "      <th>audio_mode</th>\n",
       "      <td>-0.072950</td>\n",
       "      <td>0.007052</td>\n",
       "      <td>-0.028230</td>\n",
       "      <td>0.059611</td>\n",
       "      <td>-0.098346</td>\n",
       "      <td>-0.048955</td>\n",
       "      <td>-0.019001</td>\n",
       "      <td>-0.175160</td>\n",
       "      <td>-0.000879</td>\n",
       "      <td>-0.055801</td>\n",
       "      <td>1.000000</td>\n",
       "      <td>-0.109624</td>\n",
       "      <td>0.021570</td>\n",
       "      <td>-0.020843</td>\n",
       "      <td>0.002701</td>\n",
       "    </tr>\n",
       "    <tr>\n",
       "      <th>speechiness</th>\n",
       "      <td>0.064443</td>\n",
       "      <td>0.000600</td>\n",
       "      <td>-0.079338</td>\n",
       "      <td>-0.085451</td>\n",
       "      <td>0.200974</td>\n",
       "      <td>0.072149</td>\n",
       "      <td>-0.077082</td>\n",
       "      <td>0.028683</td>\n",
       "      <td>0.093895</td>\n",
       "      <td>0.078447</td>\n",
       "      <td>-0.109624</td>\n",
       "      <td>1.000000</td>\n",
       "      <td>0.056007</td>\n",
       "      <td>0.051084</td>\n",
       "      <td>0.012777</td>\n",
       "    </tr>\n",
       "    <tr>\n",
       "      <th>tempo</th>\n",
       "      <td>-0.000005</td>\n",
       "      <td>-0.024645</td>\n",
       "      <td>0.013774</td>\n",
       "      <td>-0.144247</td>\n",
       "      <td>-0.127419</td>\n",
       "      <td>0.182729</td>\n",
       "      <td>-0.041688</td>\n",
       "      <td>-0.004800</td>\n",
       "      <td>0.026070</td>\n",
       "      <td>0.140722</td>\n",
       "      <td>0.021570</td>\n",
       "      <td>0.056007</td>\n",
       "      <td>1.000000</td>\n",
       "      <td>0.008772</td>\n",
       "      <td>0.051446</td>\n",
       "    </tr>\n",
       "    <tr>\n",
       "      <th>time_signature</th>\n",
       "      <td>0.000577</td>\n",
       "      <td>0.023037</td>\n",
       "      <td>0.005530</td>\n",
       "      <td>-0.153009</td>\n",
       "      <td>0.136648</td>\n",
       "      <td>0.144481</td>\n",
       "      <td>-0.067056</td>\n",
       "      <td>-0.007503</td>\n",
       "      <td>0.014198</td>\n",
       "      <td>0.112558</td>\n",
       "      <td>-0.020843</td>\n",
       "      <td>0.051084</td>\n",
       "      <td>0.008772</td>\n",
       "      <td>1.000000</td>\n",
       "      <td>0.090203</td>\n",
       "    </tr>\n",
       "    <tr>\n",
       "      <th>audio_valence</th>\n",
       "      <td>-0.074769</td>\n",
       "      <td>-0.044289</td>\n",
       "      <td>-0.069465</td>\n",
       "      <td>-0.128045</td>\n",
       "      <td>0.350088</td>\n",
       "      <td>0.315984</td>\n",
       "      <td>-0.198091</td>\n",
       "      <td>0.023343</td>\n",
       "      <td>0.016848</td>\n",
       "      <td>0.210589</td>\n",
       "      <td>0.002701</td>\n",
       "      <td>0.012777</td>\n",
       "      <td>0.051446</td>\n",
       "      <td>0.090203</td>\n",
       "      <td>1.000000</td>\n",
       "    </tr>\n",
       "  </tbody>\n",
       "</table>\n",
       "</div>"
      ],
      "text/plain": [
       "                     index  song_popularity  song_duration_ms  acousticness  \\\n",
       "index             1.000000        -0.104198         -0.044311     -0.052298   \n",
       "song_popularity  -0.104198         1.000000         -0.006919     -0.032647   \n",
       "song_duration_ms -0.044311        -0.006919          1.000000     -0.113820   \n",
       "acousticness     -0.052298        -0.032647         -0.113820      1.000000   \n",
       "danceability      0.068787         0.053833         -0.089205     -0.172948   \n",
       "energy            0.049866        -0.015113          0.096875     -0.679798   \n",
       "instrumentalness  0.042978        -0.090165         -0.025525      0.179552   \n",
       "key               0.017364        -0.002170         -0.006534     -0.000949   \n",
       "liveness          0.000646        -0.034314          0.020954     -0.085703   \n",
       "loudness          0.090375         0.052607          0.028614     -0.570429   \n",
       "audio_mode       -0.072950         0.007052         -0.028230      0.059611   \n",
       "speechiness       0.064443         0.000600         -0.079338     -0.085451   \n",
       "tempo            -0.000005        -0.024645          0.013774     -0.144247   \n",
       "time_signature    0.000577         0.023037          0.005530     -0.153009   \n",
       "audio_valence    -0.074769        -0.044289         -0.069465     -0.128045   \n",
       "\n",
       "                  danceability    energy  instrumentalness       key  \\\n",
       "index                 0.068787  0.049866          0.042978  0.017364   \n",
       "song_popularity       0.053833 -0.015113         -0.090165 -0.002170   \n",
       "song_duration_ms     -0.089205  0.096875         -0.025525 -0.006534   \n",
       "acousticness         -0.172948 -0.679798          0.179552 -0.000949   \n",
       "danceability          1.000000  0.054728         -0.125088  0.008166   \n",
       "energy                0.054728  1.000000         -0.222068  0.014362   \n",
       "instrumentalness     -0.125088 -0.222068          1.000000 -0.008393   \n",
       "key                   0.008166  0.014362         -0.008393  1.000000   \n",
       "liveness             -0.094284  0.176281         -0.040253 -0.002718   \n",
       "loudness              0.174165  0.765920         -0.398995  0.008014   \n",
       "audio_mode           -0.098346 -0.048955         -0.019001 -0.175160   \n",
       "speechiness           0.200974  0.072149         -0.077082  0.028683   \n",
       "tempo                -0.127419  0.182729         -0.041688 -0.004800   \n",
       "time_signature        0.136648  0.144481         -0.067056 -0.007503   \n",
       "audio_valence         0.350088  0.315984         -0.198091  0.023343   \n",
       "\n",
       "                  liveness  loudness  audio_mode  speechiness     tempo  \\\n",
       "index             0.000646  0.090375   -0.072950     0.064443 -0.000005   \n",
       "song_popularity  -0.034314  0.052607    0.007052     0.000600 -0.024645   \n",
       "song_duration_ms  0.020954  0.028614   -0.028230    -0.079338  0.013774   \n",
       "acousticness     -0.085703 -0.570429    0.059611    -0.085451 -0.144247   \n",
       "danceability     -0.094284  0.174165   -0.098346     0.200974 -0.127419   \n",
       "energy            0.176281  0.765920   -0.048955     0.072149  0.182729   \n",
       "instrumentalness -0.040253 -0.398995   -0.019001    -0.077082 -0.041688   \n",
       "key              -0.002718  0.008014   -0.175160     0.028683 -0.004800   \n",
       "liveness          1.000000  0.112186   -0.000879     0.093895  0.026070   \n",
       "loudness          0.112186  1.000000   -0.055801     0.078447  0.140722   \n",
       "audio_mode       -0.000879 -0.055801    1.000000    -0.109624  0.021570   \n",
       "speechiness       0.093895  0.078447   -0.109624     1.000000  0.056007   \n",
       "tempo             0.026070  0.140722    0.021570     0.056007  1.000000   \n",
       "time_signature    0.014198  0.112558   -0.020843     0.051084  0.008772   \n",
       "audio_valence     0.016848  0.210589    0.002701     0.012777  0.051446   \n",
       "\n",
       "                  time_signature  audio_valence  \n",
       "index                   0.000577      -0.074769  \n",
       "song_popularity         0.023037      -0.044289  \n",
       "song_duration_ms        0.005530      -0.069465  \n",
       "acousticness           -0.153009      -0.128045  \n",
       "danceability            0.136648       0.350088  \n",
       "energy                  0.144481       0.315984  \n",
       "instrumentalness       -0.067056      -0.198091  \n",
       "key                    -0.007503       0.023343  \n",
       "liveness                0.014198       0.016848  \n",
       "loudness                0.112558       0.210589  \n",
       "audio_mode             -0.020843       0.002701  \n",
       "speechiness             0.051084       0.012777  \n",
       "tempo                   0.008772       0.051446  \n",
       "time_signature          1.000000       0.090203  \n",
       "audio_valence           0.090203       1.000000  "
      ]
     },
     "execution_count": 52,
     "metadata": {},
     "output_type": "execute_result"
    }
   ],
   "source": [
    "sdata.corr()"
   ]
  },
  {
   "cell_type": "markdown",
   "id": "037b9717",
   "metadata": {},
   "source": [
    "Although no parameter is strongly correlated but there are some that are negatively correlated. For this feature selection purpose, they'll be dropped off."
   ]
  },
  {
   "cell_type": "code",
   "execution_count": 53,
   "id": "fc2fe661",
   "metadata": {},
   "outputs": [],
   "source": [
    "sdata = sdata[['song_popularity', 'danceability', 'loudness', 'audio_mode', 'speechiness']]"
   ]
  },
  {
   "cell_type": "markdown",
   "id": "78fe098a",
   "metadata": {},
   "source": [
    "The target `song_popularity` is to be predicted using other features. For this, the `X` dataset should not contain this parameter."
   ]
  },
  {
   "cell_type": "code",
   "execution_count": 54,
   "id": "424beeec",
   "metadata": {},
   "outputs": [],
   "source": [
    "X = sdata.drop(['song_popularity'], axis=1)\n",
    "y = pd.DataFrame(sdata['song_popularity'])"
   ]
  },
  {
   "cell_type": "markdown",
   "id": "4cc9901d",
   "metadata": {},
   "source": [
    "## B1-1) Divide the data set into a 75% training set and a 25% testing set using only the features relevant for classification"
   ]
  },
  {
   "cell_type": "markdown",
   "id": "89e39570",
   "metadata": {},
   "source": [
    "Splitting the data into `train` and `test` on 75% and 25% respectively."
   ]
  },
  {
   "cell_type": "code",
   "execution_count": 55,
   "id": "ba00b3c0",
   "metadata": {},
   "outputs": [],
   "source": [
    "train_X, test_X, train_y, test_y = train_test_split(X, y, train_size=0.75, test_size=0.25, random_state=100)"
   ]
  },
  {
   "cell_type": "markdown",
   "id": "918088e1",
   "metadata": {},
   "source": [
    "## B1-2) Use feature scaling and train a decision tree model."
   ]
  },
  {
   "cell_type": "markdown",
   "id": "84363991",
   "metadata": {},
   "source": [
    "For feature scaling, I use three scalars from `sklearn`.\n",
    "1. StandardScalar\n",
    "2. RobustScalar\n",
    "3. Normalizer"
   ]
  },
  {
   "cell_type": "code",
   "execution_count": 56,
   "id": "7c4849f8",
   "metadata": {},
   "outputs": [],
   "source": [
    "std_scalar = StandardScaler()\n",
    "rbst_scalar = RobustScaler()\n",
    "nrml_scalar = Normalizer()"
   ]
  },
  {
   "cell_type": "markdown",
   "id": "514dbfb5",
   "metadata": {},
   "source": [
    "Time to train and test the data using the three selected scalars."
   ]
  },
  {
   "cell_type": "code",
   "execution_count": 57,
   "id": "886ad733",
   "metadata": {},
   "outputs": [],
   "source": [
    "train_X__std_scalar = std_scalar.fit_transform(train_X)\n",
    "train_X__std_scalar = pd.DataFrame(train_X__std_scalar, columns=X.columns)\n",
    "test_X__std_scalar = std_scalar.transform(test_X)\n",
    "test_X__std_scalar = pd.DataFrame(test_X__std_scalar, columns=X.columns)"
   ]
  },
  {
   "cell_type": "code",
   "execution_count": 58,
   "id": "2a2e8e92",
   "metadata": {},
   "outputs": [],
   "source": [
    "train_X__rbst_scalar = rbst_scalar.fit_transform(train_X)\n",
    "train_X__rbst_scalar = pd.DataFrame(train_X__rbst_scalar, columns=X.columns)\n",
    "test_X__rbst_scalar = rbst_scalar.transform(test_X)\n",
    "test_X__rbst_scalar = pd.DataFrame(test_X__rbst_scalar, columns=X.columns)"
   ]
  },
  {
   "cell_type": "code",
   "execution_count": 59,
   "id": "ac7162c2",
   "metadata": {},
   "outputs": [],
   "source": [
    "train_X__nrml_scalar = nrml_scalar.fit_transform(train_X)\n",
    "train_X__nrml_scalar = pd.DataFrame(train_X__nrml_scalar, columns=X.columns)\n",
    "test_X__nrml_scalar = nrml_scalar.transform(test_X)\n",
    "test_X__nrml_scalar = pd.DataFrame(test_X__nrml_scalar, columns=X.columns)"
   ]
  },
  {
   "cell_type": "markdown",
   "id": "70a7c8bc",
   "metadata": {},
   "source": [
    "Defining a function that gives out the accuracy score and confusion matrix for the trained and test data."
   ]
  },
  {
   "cell_type": "code",
   "execution_count": 60,
   "id": "6ecb7aa4",
   "metadata": {},
   "outputs": [],
   "source": [
    "def acc_conf(_trainX, _testX, _trainY=train_y, _testY=test_y):\n",
    "    clf = tree.DecisionTreeClassifier()\n",
    "    clf.fit(_trainX, _trainY)\n",
    "    y_pred = clf.predict(_testX)\n",
    "    return accuracy_score(test_y, y_pred)*100, confusion_matrix(_testY, y_pred)\n",
    "\n",
    "def g_print(acc, cmat):\n",
    "    print(f'{acc=}')\n",
    "    print(f'{cmat=}')"
   ]
  },
  {
   "cell_type": "markdown",
   "id": "c18b5d67",
   "metadata": {},
   "source": [
    "## B1-3) Discuss your findings from the confusion matrix and accuracy. You should consider other performance metrics you learnt in lecture 7 to answer this question. "
   ]
  },
  {
   "cell_type": "markdown",
   "id": "0698e8e0",
   "metadata": {},
   "source": [
    "Let's check the accuracy of model with data that doesn't has a scalar transformation on it."
   ]
  },
  {
   "cell_type": "code",
   "execution_count": 61,
   "id": "ae4cd7bd",
   "metadata": {},
   "outputs": [
    {
     "name": "stdout",
     "output_type": "stream",
     "text": [
      "acc=28.967933171651843\n",
      "cmat=array([[ 51,  89, 150, 133,   7],\n",
      "       [ 84, 118, 261, 169,  14],\n",
      "       [153, 310, 601, 381,  36],\n",
      "       [108, 191, 423, 300,  26],\n",
      "       [ 10,  20,  47,  24,   5]])\n"
     ]
    }
   ],
   "source": [
    "acc, cmat = acc_conf(train_X, test_X, train_y, test_y)\n",
    "g_print(acc, cmat)"
   ]
  },
  {
   "cell_type": "markdown",
   "id": "60023f98",
   "metadata": {},
   "source": [
    "Now, with **standard scalar** method."
   ]
  },
  {
   "cell_type": "code",
   "execution_count": 62,
   "id": "6f698383",
   "metadata": {},
   "outputs": [
    {
     "name": "stdout",
     "output_type": "stream",
     "text": [
      "acc=28.887092427917004\n",
      "cmat=array([[ 53,  94, 148, 126,   9],\n",
      "       [ 83, 116, 264, 170,  13],\n",
      "       [167, 299, 595, 388,  32],\n",
      "       [105, 178, 436, 302,  27],\n",
      "       [ 10,  15,  52,  23,   6]])\n"
     ]
    }
   ],
   "source": [
    "acc, cmat = acc_conf(train_X__std_scalar, test_X__std_scalar)\n",
    "g_print(acc, cmat)"
   ]
  },
  {
   "cell_type": "markdown",
   "id": "b47eaee8",
   "metadata": {},
   "source": [
    "Next up, we have **Robust Scalar** method."
   ]
  },
  {
   "cell_type": "code",
   "execution_count": 63,
   "id": "c9619bc4",
   "metadata": {},
   "outputs": [
    {
     "name": "stdout",
     "output_type": "stream",
     "text": [
      "acc=28.563729452977633\n",
      "cmat=array([[ 56,  89, 153, 124,   8],\n",
      "       [ 76, 115, 258, 180,  17],\n",
      "       [171, 304, 588, 382,  36],\n",
      "       [107, 178, 439, 297,  27],\n",
      "       [ 12,  18,  44,  28,   4]])\n"
     ]
    }
   ],
   "source": [
    "acc, cmat = acc_conf(train_X__rbst_scalar, test_X__rbst_scalar)\n",
    "g_print(acc, cmat)"
   ]
  },
  {
   "cell_type": "markdown",
   "id": "0a6fd4db",
   "metadata": {},
   "source": [
    "And finally, we have **Normalizer** method."
   ]
  },
  {
   "cell_type": "code",
   "execution_count": 64,
   "id": "beb216cb",
   "metadata": {},
   "outputs": [
    {
     "name": "stdout",
     "output_type": "stream",
     "text": [
      "acc=27.836162759364054\n",
      "cmat=array([[ 45,  94, 156, 119,  16],\n",
      "       [ 82, 135, 241, 172,  16],\n",
      "       [155, 273, 585, 426,  42],\n",
      "       [131, 177, 441, 266,  33],\n",
      "       [ 17,  15,  43,  29,   2]])\n"
     ]
    }
   ],
   "source": [
    "acc, cmat = acc_conf(train_X__nrml_scalar, test_X__nrml_scalar)\n",
    "g_print(acc, cmat)"
   ]
  },
  {
   "cell_type": "markdown",
   "id": "102db138",
   "metadata": {},
   "source": [
    "From the above runs, all four models have an accuracy of ~29%. With the `StandardScalar` being ~29%."
   ]
  },
  {
   "cell_type": "markdown",
   "id": "f5622a20",
   "metadata": {},
   "source": [
    "# Part B2"
   ]
  },
  {
   "cell_type": "markdown",
   "id": "204fff5d",
   "metadata": {},
   "source": [
    "## QB2-1) Provide the direct link to the public dataset from the internet"
   ]
  },
  {
   "cell_type": "markdown",
   "id": "63739aa8",
   "metadata": {},
   "source": [
    "The data is taken from the following link\n",
    "\n",
    "https://www.kaggle.com/datasets/aryashah2k/credit-card-customer-data"
   ]
  },
  {
   "cell_type": "markdown",
   "id": "49cd2f0a",
   "metadata": {},
   "source": [
    "Load the dataset"
   ]
  },
  {
   "cell_type": "code",
   "execution_count": 65,
   "id": "9a6f04ed",
   "metadata": {},
   "outputs": [],
   "source": [
    "customer_data = pd.read_csv('credit_card_data.csv')"
   ]
  },
  {
   "cell_type": "markdown",
   "id": "83bc89a4",
   "metadata": {},
   "source": [
    "Let's only keep unique customers, by removing any duplicates if exist in the `Customer Key` column."
   ]
  },
  {
   "cell_type": "code",
   "execution_count": 66,
   "id": "75bc5ad0",
   "metadata": {},
   "outputs": [],
   "source": [
    "customer_data = customer_data.drop_duplicates(subset='Customer Key', keep='last')\n",
    "customer_data.reset_index(drop=True, inplace=True)"
   ]
  },
  {
   "cell_type": "markdown",
   "id": "16f463ee",
   "metadata": {},
   "source": [
    "For further analysis, let's drop the **serial number key**."
   ]
  },
  {
   "cell_type": "code",
   "execution_count": 67,
   "id": "ff0827aa",
   "metadata": {},
   "outputs": [],
   "source": [
    "customer_data = customer_data.drop('Sl_No', axis=1)"
   ]
  },
  {
   "cell_type": "markdown",
   "id": "72e5d786",
   "metadata": {},
   "source": [
    "For the selection of two numerical features, let's see the clustering within `Avg_Credit_Limit` and `Total_Credit_Cards`."
   ]
  },
  {
   "cell_type": "code",
   "execution_count": 68,
   "id": "52f00eab",
   "metadata": {},
   "outputs": [],
   "source": [
    "customer_ = customer_data[['Avg_Credit_Limit', 'Total_Credit_Cards']]"
   ]
  },
  {
   "cell_type": "markdown",
   "id": "e928f067",
   "metadata": {},
   "source": [
    "Let's use the `Standard` and `Robust` scalar methods for classification."
   ]
  },
  {
   "cell_type": "code",
   "execution_count": 69,
   "id": "00f7d2cc",
   "metadata": {},
   "outputs": [],
   "source": [
    "std_scalar = StandardScaler()\n",
    "rbst_scalar = RobustScaler()"
   ]
  },
  {
   "cell_type": "markdown",
   "id": "d6cfd48d",
   "metadata": {},
   "source": [
    "Defining a function for the value of inertia and the transformed data to be generated from both scalar transformations."
   ]
  },
  {
   "cell_type": "code",
   "execution_count": 83,
   "id": "6b878809",
   "metadata": {},
   "outputs": [],
   "source": [
    "def get_inertia(scalar_, data):\n",
    "    X = scalar_.fit_transform(data)\n",
    "    in_ = []\n",
    "    for i in range(2, 10):\n",
    "        km = KMeans(n_clusters=i, init='random', random_state=50)\n",
    "        km.fit(X)\n",
    "        in_.append(km.inertia_)\n",
    "        \n",
    "    return X, in_"
   ]
  },
  {
   "cell_type": "code",
   "execution_count": 84,
   "id": "21d0f098",
   "metadata": {},
   "outputs": [],
   "source": [
    "std_X, std_inertia = get_inertia(std_scalar, customer_)\n",
    "rbst_X, rbst_inertia = get_inertia(rbst_scalar, customer_)"
   ]
  },
  {
   "cell_type": "markdown",
   "id": "fc85b00a",
   "metadata": {},
   "source": [
    "Plotting the `number of KM clusters` vs the `inertia parameter` from the clustering."
   ]
  },
  {
   "cell_type": "code",
   "execution_count": 85,
   "id": "5a01f423",
   "metadata": {},
   "outputs": [
    {
     "data": {
      "image/png": "[encoded data removed]",
      "text/plain": [
       "<Figure size 640x480 with 1 Axes>"
      ]
     },
     "metadata": {},
     "output_type": "display_data"
    }
   ],
   "source": [
    "plt.plot(range(2, 10), std_inertia, 'bo:', label='StandardScalar')\n",
    "plt.plot(range(2, 10), rbst_inertia, 'go:', label='RobustScalar')\n",
    "plt.grid('on')\n",
    "plt.xlabel('Clusters')\n",
    "plt.ylabel('Inertia')\n",
    "plt.legend(loc='best')\n",
    "plt.tight_layout()"
   ]
  },
  {
   "cell_type": "markdown",
   "id": "fa8a9e46",
   "metadata": {},
   "source": [
    "The elbow for the KMeans cluster seems to be around 3. So, let's keep the cluster number to 3. It can be seen that the inertia for the `RobustScalar` is lesser than `StandardScalar`. Clustering the data with the elbow.\n",
    "\n",
    "Let's define a function to get the `centroid values` and the `KM fit` parameter as well."
   ]
  },
  {
   "cell_type": "code",
   "execution_count": 86,
   "id": "ef283bfa",
   "metadata": {},
   "outputs": [],
   "source": [
    "def get_centroids(clusters_, data):\n",
    "    km = KMeans(n_clusters=3, init='random', random_state=50)\n",
    "    km.fit(data)\n",
    "    centroids = km.cluster_centers_\n",
    "    \n",
    "    return km, centroids"
   ]
  },
  {
   "cell_type": "code",
   "execution_count": 87,
   "id": "4e383389",
   "metadata": {},
   "outputs": [],
   "source": [
    "std_km, std_centroids = get_centroids(3, std_X)\n",
    "rbst_km, rbst_centroids = get_centroids(3, rbst_X)"
   ]
  },
  {
   "cell_type": "markdown",
   "id": "3ce1088f",
   "metadata": {},
   "source": [
    "And finally, a function for the plotting of the data."
   ]
  },
  {
   "cell_type": "code",
   "execution_count": 88,
   "id": "16ebd458",
   "metadata": {},
   "outputs": [],
   "source": [
    "def plot_(data, KMean, centroids, scalar_name):\n",
    "    fig, ax = plt.subplots(figsize=(6, 6))\n",
    "    plt.scatter(data[KMean.labels_ == 0, 0], data[KMean.labels_ == 0, 1], c='green', s=3, label='cluster 1')\n",
    "    plt.scatter(data[KMean.labels_ == 1, 0], data[KMean.labels_ == 1, 1], c='blue', s=3,  label='cluster 2')\n",
    "    plt.scatter(data[KMean.labels_ == 2, 0], data[KMean.labels_ == 2, 1], c='orange', s=3,  label='cluster 3')\n",
    "    plt.scatter(centroids[:, 0], centroids[:, 1], marker='*', s=30, c='red', label='centroid')\n",
    "    plt.legend()\n",
    "    plt.title(f'Visualization of clustered data\\nwith {scalar_name} method', fontweight='bold')\n",
    "    ax.set_aspect('equal');"
   ]
  },
  {
   "cell_type": "code",
   "execution_count": 89,
   "id": "68d3958c",
   "metadata": {},
   "outputs": [
    {
     "data": {
      "image/png": "[encoded data removed]",
      "text/plain": [
       "<Figure size 600x600 with 1 Axes>"
      ]
     },
     "metadata": {},
     "output_type": "display_data"
    }
   ],
   "source": [
    "plot_(std_X, std_km, std_centroids, 'StandardScalar')"
   ]
  },
  {
   "cell_type": "code",
   "execution_count": 90,
   "id": "c87faf4f",
   "metadata": {},
   "outputs": [
    {
     "data": {
      "image/png": "[encoded data removed]",
      "text/plain": [
       "<Figure size 600x600 with 1 Axes>"
      ]
     },
     "metadata": {},
     "output_type": "display_data"
    }
   ],
   "source": [
    "plot_(rbst_X, rbst_km, rbst_centroids, 'RobustScalar')"
   ]
  },
  {
   "cell_type": "markdown",
   "id": "a93f1ef7",
   "metadata": {},
   "source": [
    "1. It can be seen that the centroids with the `RobustScalar` are placed differently than those of `StandardScalar`.\n",
    "2. There are two outlying points from `cluster2` from `StandardScalar` that have shifted twoards `cluster` in `RobustScalar`. \n",
    "3. The bottom left cluster `cluster2` for `RS` contains more data points than `cluster3` from `SS`."
   ]
  },
  {
   "cell_type": "code",
   "execution_count": null,
   "id": "49aa8129",
   "metadata": {},
   "outputs": [],
   "source": []
  }
 ],
 "metadata": {
  "kernelspec": {
   "display_name": "Python 3 (ipykernel)",
   "language": "python",
   "name": "python3"
  },
  "language_info": {
   "codemirror_mode": {
    "name": "ipython",
    "version": 3
   },
   "file_extension": ".py",
   "mimetype": "text/x-python",
   "name": "python",
   "nbconvert_exporter": "python",
   "pygments_lexer": "ipython3",
   "version": "3.9.13"
  }
 },
 "nbformat": 4,
 "nbformat_minor": 5
}
